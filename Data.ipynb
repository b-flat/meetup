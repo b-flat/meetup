{
 "cells": [
  {
   "cell_type": "code",
   "execution_count": 26,
   "metadata": {
    "collapsed": false
   },
   "outputs": [],
   "source": [
    "from pymongo import MongoClient\n",
    "import requests\n",
    "from pprint import pprint\n",
    "import pandas as pd"
   ]
  },
  {
   "cell_type": "code",
   "execution_count": 4,
   "metadata": {
    "collapsed": true
   },
   "outputs": [],
   "source": [
    "client = MongoClient()\n",
    "db = client['meetup']"
   ]
  },
  {
   "cell_type": "code",
   "execution_count": 5,
   "metadata": {
    "collapsed": true
   },
   "outputs": [],
   "source": [
    "API_KEY = '6cc211017f64141072497d1766550'\n",
    "BASE_URL = 'https://api.meetup.com'"
   ]
  },
  {
   "cell_type": "markdown",
   "metadata": {},
   "source": [
    "1. events from a specific group: url_name -> events_id\n",
    "Gets a listing of all Meetup Events hosted by a target group:\n",
    "https://secure.meetup.com/meetup_api/console/?path=/:urlname/events\n",
    "\n",
    "2. rsvps from a specific event: event_id, urlname -> member id & name\n",
    "Retrieves list of event RSVPs\n",
    "https://secure.meetup.com/meetup_api/console/?path=%2F%3Aurlname%2Fevents%2F%3Aevent_id%2Frsvps\n",
    "\n",
    "Aaron's meetup:\n",
    "urlname = DE-ProD-SF\n",
    "group_id 18514297"
   ]
  },
  {
   "cell_type": "code",
   "execution_count": 31,
   "metadata": {
    "collapsed": true
   },
   "outputs": [
    {
     "data": {
      "text/plain": [
       "[{u'created': 1455863910000,\n",
       "  u'description': u\"<p>Exercise your critical thinking with a data eng challenge problem! Hear how others would solve the problem, what trade-offs they consider, and voice your opinion / ask questions in a non-threatening atmosphere. Like a journal club, but minus reading boring papers, and plus an exciting problem :-)</p> <p>I'll send out the challenge problem by email to the RSVP'd group 2 days before the event.</p> <p>By the way, employers rank whiteboarding &amp; critical thinking skills as one of their top priorities in hiring data engineers. Practice makes perfect!</p> <p>See you soon,<br/>Aaron</p> \",\n",
       "  u'group': {u'created': 1441761756000,\n",
       "   u'id': 18913207,\n",
       "   u'join_mode': u'open',\n",
       "   u'lat': 37.779998779296875,\n",
       "   u'lon': -122.41999816894531,\n",
       "   u'name': u'Data Engineering Professional Development San Francisco',\n",
       "   u'urlname': u'DE-ProD-SF',\n",
       "   u'who': u'Professional Developers'},\n",
       "  u'id': u'228968660',\n",
       "  u'link': u'http://www.meetup.com/DE-ProD-SF/events/228968660/',\n",
       "  u'name': u'Data Eng. Whiteboarding Session 1',\n",
       "  u'status': u'past',\n",
       "  u'time': 1456455600000,\n",
       "  u'updated': 1456516735000,\n",
       "  u'utc_offset': -28800000,\n",
       "  u'venue': {u'address_1': u'4 4 Tehama Street ',\n",
       "   u'city': u'San Francisco',\n",
       "   u'country': u'us',\n",
       "   u'id': 23815839,\n",
       "   u'lat': 37.77711868286133,\n",
       "   u'localized_country_name': u'USA',\n",
       "   u'lon': -122.41963958740234,\n",
       "   u'name': u'Galvanize',\n",
       "   u'repinned': False,\n",
       "   u'state': u'CA',\n",
       "   u'zip': u''},\n",
       "  u'visibility': u'public',\n",
       "  u'waitlist_count': 0,\n",
       "  u'yes_rsvp_count': 10},\n",
       " {u'created': 1454720805000,\n",
       "  u'description': u'<p><b>*Note</b>,\\xa0expedite your check in at Galvanize;\\xa0<a href=\"https://www.eventbrite.com/e/sf-data-science-meetup-data-engineering-skills-and-hiring-tickets-21572104746\">register here</a>\\xa0</p> <p><br/>What skills are the most important to getting hired as a data engineer? How should you allocate your professional development time?</p> <p><br/>Advice from hiring managers can help!</p> <p>Act 1 - Aaron Merlob will present some original qualitative and quantitative research on the subject.</p> <p><br/>Act 2 - A short panel discussion with DE Hiring Managers + significant time for audience Q&amp;A. Panel questions will cover the various types of DE teams, generalists vs. specialists, and DE career paths. (Feel free to send questions now)</p> <p>Panelists will be:</p> <p><b>Laura Pruitt</b>, Content Delivery Analytics Manager @ Netflix (Streaming Movies)</p> <p><br/><b>Jeff Magnusson</b>, Director of Algorithms Platform @ Stitch Fix (Online Personal Stylists for Women)</p> <p><br/><b>Wes Bailey</b>, VP Engineering and Data Science @ Sproutling (The Smarter Baby Monitor)</p> ',\n",
       "  u'duration': 9000000,\n",
       "  u'group': {u'created': 1441761756000,\n",
       "   u'id': 18913207,\n",
       "   u'join_mode': u'open',\n",
       "   u'lat': 37.779998779296875,\n",
       "   u'lon': -122.41999816894531,\n",
       "   u'name': u'Data Engineering Professional Development San Francisco',\n",
       "   u'urlname': u'DE-ProD-SF',\n",
       "   u'who': u'Professional Developers'},\n",
       "  u'id': u'228648803',\n",
       "  u'link': u'http://www.meetup.com/DE-ProD-SF/events/228648803/',\n",
       "  u'name': u'Data Engineering Skills and Hiring',\n",
       "  u'status': u'past',\n",
       "  u'time': 1459301400000,\n",
       "  u'updated': 1459315746000,\n",
       "  u'utc_offset': -25200000,\n",
       "  u'venue': {u'address_1': u'4 4 Tehama Street ',\n",
       "   u'city': u'San Francisco',\n",
       "   u'country': u'us',\n",
       "   u'id': 23815839,\n",
       "   u'lat': 37.77711868286133,\n",
       "   u'localized_country_name': u'USA',\n",
       "   u'lon': -122.41963958740234,\n",
       "   u'name': u'Galvanize',\n",
       "   u'repinned': False,\n",
       "   u'state': u'CA',\n",
       "   u'zip': u''},\n",
       "  u'visibility': u'public',\n",
       "  u'waitlist_count': 0,\n",
       "  u'yes_rsvp_count': 25}]"
      ]
     },
     "execution_count": 31,
     "metadata": {},
     "output_type": "execute_result"
    }
   ],
   "source": [
    "# get a listing of all meetup events hosted by DE-ProD-SF\n",
    "\n",
    "def get_events(urlname):\n",
    "    \n",
    "    events_url = BASE_URL + '/' + urlname + '/events'\n",
    "    params = {'sign':'true','key': API_KEY, 'status': 'past'}\n",
    "    response = requests.get(events_url, params = params)\n",
    "    events = response.json()\n",
    "    \n",
    "    return events\n",
    "\n",
    "urlname = 'DE-ProD-SF'\n",
    "get_events(urlname)"
   ]
  },
  {
   "cell_type": "code",
   "execution_count": 33,
   "metadata": {
    "collapsed": true
   },
   "outputs": [
    {
     "name": "stdout",
     "output_type": "stream",
     "text": [
      "[u'228968660', u'228648803']\n",
      "[u\"<p>Exercise your critical thinking with a data eng challenge problem! Hear how others would solve the problem, what trade-offs they consider, and voice your opinion / ask questions in a non-threatening atmosphere. Like a journal club, but minus reading boring papers, and plus an exciting problem :-)</p> <p>I'll send out the challenge problem by email to the RSVP'd group 2 days before the event.</p> <p>By the way, employers rank whiteboarding &amp; critical thinking skills as one of their top priorities in hiring data engineers. Practice makes perfect!</p> <p>See you soon,<br/>Aaron</p> \", u'<p><b>*Note</b>,\\xa0expedite your check in at Galvanize;\\xa0<a href=\"https://www.eventbrite.com/e/sf-data-science-meetup-data-engineering-skills-and-hiring-tickets-21572104746\">register here</a>\\xa0</p> <p><br/>What skills are the most important to getting hired as a data engineer? How should you allocate your professional development time?</p> <p><br/>Advice from hiring managers can help!</p> <p>Act 1 - Aaron Merlob will present some original qualitative and quantitative research on the subject.</p> <p><br/>Act 2 - A short panel discussion with DE Hiring Managers + significant time for audience Q&amp;A. Panel questions will cover the various types of DE teams, generalists vs. specialists, and DE career paths. (Feel free to send questions now)</p> <p>Panelists will be:</p> <p><b>Laura Pruitt</b>, Content Delivery Analytics Manager @ Netflix (Streaming Movies)</p> <p><br/><b>Jeff Magnusson</b>, Director of Algorithms Platform @ Stitch Fix (Online Personal Stylists for Women)</p> <p><br/><b>Wes Bailey</b>, VP Engineering and Data Science @ Sproutling (The Smarter Baby Monitor)</p> ']\n"
     ]
    }
   ],
   "source": [
    "#get all events_ids and descriptions\n",
    "events_ids = [''.join(event['id']) for event in events]\n",
    "print events_ids\n",
    "\n",
    "events_descriptions = [event['description'] for event in events]\n",
    "print events_descriptions"
   ]
  },
  {
   "cell_type": "code",
   "execution_count": 38,
   "metadata": {
    "collapsed": false,
    "scrolled": true
   },
   "outputs": [
    {
     "name": "stdout",
     "output_type": "stream",
     "text": [
      "[<generator object <genexpr> at 0x1078ddbe0>, <generator object <genexpr> at 0x1078329b0>]\n"
     ]
    }
   ],
   "source": [
    "#get all rsvps for each event\n",
    "\n",
    "member_id = []\n",
    "event_description = []\n",
    "for i in events_ids:\n",
    "    rsvps_url = BASE_URL + '/' + urlname +'/events/' + i + '/rsvps'\n",
    "    params = {'sign':'true','key': API_KEY}\n",
    "    response = requests.get(rsvps_url, params = params)\n",
    "    rsvps = response.json()\n",
    "    \n",
    "  \n",
    "#     event_description.append()\n",
    "    \n",
    "    member_id.append(rsvp['member']['id'] for rsvp in rsvps)\n",
    "    \n",
    "# pprint (rsvps)\n",
    "print member_id"
   ]
  },
  {
   "cell_type": "code",
   "execution_count": null,
   "metadata": {
    "collapsed": true
   },
   "outputs": [],
   "source": [
    "members_rsvps = [rsvp['member']['id'] for rsvp in rsvps]"
   ]
  },
  {
   "cell_type": "code",
   "execution_count": 25,
   "metadata": {
    "collapsed": false
   },
   "outputs": [
    {
     "name": "stdout",
     "output_type": "stream",
     "text": [
      "27\n",
      "[(87429312, u'Aaron M'), (148987252, u'Ankit Gadodia'), (149624662, u'Anurag Kaushik'), (10134330, u'Asim Jalis'), (5251626, u'bml'), (185934627, u'Brandon Fetters'), (132426572, u'Christopher Kim'), (67449572, u'Darwin Dichmann'), (201267222, u'Davide Verona'), (57468772, u'IrinaM'), (120284782, u'James Snyder'), (51737362, u'Justin'), (65386392, u'Ki Lim'), (101970742, u'Kicho Yu'), (198906506, u'Koushal Majeti'), (200610549, u'Manuel Moreno'), (193633824, u'Mehdi Zarei'), (198433955, u'Natalie'), (1209999, u'Niranjan'), (193376612, u'Polina Savill'), (190877147, u'Poornima'), (2963626, u'Raj Kumar'), (99543232, u'Ramkumar Rengamani'), (41888302, u'Richard Haven'), (10048695, u'Roy'), (117627052, u'T. Miu Wang'), (8155925, u'Wilson Lau')]\n"
     ]
    }
   ],
   "source": [
    "# members_rsvps = [(rsvp['member']['id'],rsvp['member']['name']) for rsvp in rsvps]\n",
    "# print len(members_rsvps)\n",
    "# print members_rsvps"
   ]
  },
  {
   "cell_type": "code",
   "execution_count": 34,
   "metadata": {
    "collapsed": false
   },
   "outputs": [],
   "source": [
    "# df = pd.DataFrame([member_id, event_id, event_description])\n",
    "# df.columns = ['member_id', 'event_id', 'event_description']"
   ]
  },
  {
   "cell_type": "code",
   "execution_count": null,
   "metadata": {
    "collapsed": true
   },
   "outputs": [],
   "source": [
    "#get all the members from DE-ProD-SF\n"
   ]
  }
 ],
 "metadata": {
  "kernelspec": {
   "display_name": "Python 2",
   "language": "python",
   "name": "python2"
  },
  "language_info": {
   "codemirror_mode": {
    "name": "ipython",
    "version": 2
   },
   "file_extension": ".py",
   "mimetype": "text/x-python",
   "name": "python",
   "nbconvert_exporter": "python",
   "pygments_lexer": "ipython2",
   "version": "2.7.10"
  }
 },
 "nbformat": 4,
 "nbformat_minor": 0
}

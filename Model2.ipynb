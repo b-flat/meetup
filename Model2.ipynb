{
 "cells": [
  {
   "cell_type": "code",
   "execution_count": 1,
   "metadata": {
    "collapsed": true
   },
   "outputs": [],
   "source": [
    "import numpy as np\n",
    "import pandas as pd\n",
    "from nltk.tokenize import word_tokenize\n",
    "from nltk.stem.snowball import SnowballStemmer\n",
    "from sklearn.feature_extraction.text import TfidfVectorizer\n",
    "from sklearn.linear_model import LogisticRegression\n",
    "from sklearn.metrics.pairwise import linear_kernel\n",
    "from sklearn.decomposition import TruncatedSVD, NMF\n",
    "from numpy.random import rand, RandomState\n",
    "from numpy import array, matrix, linalg\n",
    "from sklearn.linear_model import LinearRegression"
   ]
  },
  {
   "cell_type": "code",
   "execution_count": 2,
   "metadata": {
    "collapsed": false
   },
   "outputs": [],
   "source": [
    "df = pd.read_pickle('data_consolidated.pkl')"
   ]
  },
  {
   "cell_type": "code",
   "execution_count": 3,
   "metadata": {
    "collapsed": true
   },
   "outputs": [
    {
     "data": {
      "text/html": [
       "<div>\n",
       "<table border=\"1\" class=\"dataframe\">\n",
       "  <thead>\n",
       "    <tr style=\"text-align: right;\">\n",
       "      <th></th>\n",
       "      <th>member_id</th>\n",
       "      <th>event_description</th>\n",
       "    </tr>\n",
       "  </thead>\n",
       "  <tbody>\n",
       "    <tr>\n",
       "      <th>0</th>\n",
       "      <td>292159</td>\n",
       "      <td>Get advice for ramping up your Data Science sk...</td>\n",
       "    </tr>\n",
       "    <tr>\n",
       "      <th>1</th>\n",
       "      <td>327482</td>\n",
       "      <td>No it isn't Pair Programming.. It's \"Pair Data...</td>\n",
       "    </tr>\n",
       "    <tr>\n",
       "      <th>2</th>\n",
       "      <td>493376</td>\n",
       "      <td>Get advice for ramping up your Data Science sk...</td>\n",
       "    </tr>\n",
       "    <tr>\n",
       "      <th>3</th>\n",
       "      <td>2811577</td>\n",
       "      <td>A panel discussion on best practices for growi...</td>\n",
       "    </tr>\n",
       "    <tr>\n",
       "      <th>4</th>\n",
       "      <td>2853561</td>\n",
       "      <td>Get advice for ramping up your Data Science sk...</td>\n",
       "    </tr>\n",
       "    <tr>\n",
       "      <th>5</th>\n",
       "      <td>2877764</td>\n",
       "      <td>A panel discussion on best practices for growi...</td>\n",
       "    </tr>\n",
       "    <tr>\n",
       "      <th>6</th>\n",
       "      <td>2964467</td>\n",
       "      <td>Get advice for ramping up your Data Science sk...</td>\n",
       "    </tr>\n",
       "    <tr>\n",
       "      <th>7</th>\n",
       "      <td>2966361</td>\n",
       "      <td>You've heard of Pair Programming: Introducing ...</td>\n",
       "    </tr>\n",
       "    <tr>\n",
       "      <th>8</th>\n",
       "      <td>3456622</td>\n",
       "      <td>Get advice for ramping up your Data Science sk...</td>\n",
       "    </tr>\n",
       "    <tr>\n",
       "      <th>9</th>\n",
       "      <td>3756931</td>\n",
       "      <td>Get advice for ramping up your Data Science sk...</td>\n",
       "    </tr>\n",
       "    <tr>\n",
       "      <th>10</th>\n",
       "      <td>3881071</td>\n",
       "      <td>You've heard of Pair Programming: Introducing ...</td>\n",
       "    </tr>\n",
       "    <tr>\n",
       "      <th>11</th>\n",
       "      <td>3893698</td>\n",
       "      <td>A panel discussion on best practices for growi...</td>\n",
       "    </tr>\n",
       "    <tr>\n",
       "      <th>12</th>\n",
       "      <td>4252347</td>\n",
       "      <td>No it isn't Pair Programming.. It's \"Pair Data...</td>\n",
       "    </tr>\n",
       "    <tr>\n",
       "      <th>13</th>\n",
       "      <td>4450970</td>\n",
       "      <td>A panel discussion on best practices for growi...</td>\n",
       "    </tr>\n",
       "    <tr>\n",
       "      <th>14</th>\n",
       "      <td>4529261</td>\n",
       "      <td>Get advice for ramping up your Data Science sk...</td>\n",
       "    </tr>\n",
       "    <tr>\n",
       "      <th>15</th>\n",
       "      <td>4535468</td>\n",
       "      <td>A panel discussion on best practices for growi...</td>\n",
       "    </tr>\n",
       "    <tr>\n",
       "      <th>16</th>\n",
       "      <td>4606034</td>\n",
       "      <td>A panel discussion on best practices for growi...</td>\n",
       "    </tr>\n",
       "    <tr>\n",
       "      <th>17</th>\n",
       "      <td>5459364</td>\n",
       "      <td>A panel discussion on best practices for growi...</td>\n",
       "    </tr>\n",
       "    <tr>\n",
       "      <th>18</th>\n",
       "      <td>5729595</td>\n",
       "      <td>You've heard of Pair Programming: Introducing ...</td>\n",
       "    </tr>\n",
       "    <tr>\n",
       "      <th>19</th>\n",
       "      <td>5734460</td>\n",
       "      <td>Get advice for ramping up your Data Science sk...</td>\n",
       "    </tr>\n",
       "    <tr>\n",
       "      <th>20</th>\n",
       "      <td>5884673</td>\n",
       "      <td>Get advice for ramping up your Data Science sk...</td>\n",
       "    </tr>\n",
       "    <tr>\n",
       "      <th>21</th>\n",
       "      <td>6047975</td>\n",
       "      <td>Get advice for ramping up your Data Science sk...</td>\n",
       "    </tr>\n",
       "    <tr>\n",
       "      <th>22</th>\n",
       "      <td>6276332</td>\n",
       "      <td>No it isn't Pair Programming.. It's \"Pair Data...</td>\n",
       "    </tr>\n",
       "    <tr>\n",
       "      <th>23</th>\n",
       "      <td>6945361</td>\n",
       "      <td>A panel discussion on best practices for growi...</td>\n",
       "    </tr>\n",
       "    <tr>\n",
       "      <th>24</th>\n",
       "      <td>7419036</td>\n",
       "      <td>How does entering a bootcamp or Masters progra...</td>\n",
       "    </tr>\n",
       "    <tr>\n",
       "      <th>25</th>\n",
       "      <td>7470257</td>\n",
       "      <td>A panel discussion on best practices for growi...</td>\n",
       "    </tr>\n",
       "    <tr>\n",
       "      <th>26</th>\n",
       "      <td>7558057</td>\n",
       "      <td>Get advice for ramping up your Data Science sk...</td>\n",
       "    </tr>\n",
       "    <tr>\n",
       "      <th>27</th>\n",
       "      <td>8123114</td>\n",
       "      <td>Get advice for ramping up your Data Science sk...</td>\n",
       "    </tr>\n",
       "    <tr>\n",
       "      <th>28</th>\n",
       "      <td>8155925</td>\n",
       "      <td>A panel discussion on best practices for growi...</td>\n",
       "    </tr>\n",
       "    <tr>\n",
       "      <th>29</th>\n",
       "      <td>8486883</td>\n",
       "      <td>No it isn't Pair Programming.. It's \"Pair Data...</td>\n",
       "    </tr>\n",
       "    <tr>\n",
       "      <th>...</th>\n",
       "      <td>...</td>\n",
       "      <td>...</td>\n",
       "    </tr>\n",
       "    <tr>\n",
       "      <th>363</th>\n",
       "      <td>190752194</td>\n",
       "      <td>How does entering a bootcamp or Masters progra...</td>\n",
       "    </tr>\n",
       "    <tr>\n",
       "      <th>364</th>\n",
       "      <td>190893574</td>\n",
       "      <td>Get advice for ramping up your Data Science sk...</td>\n",
       "    </tr>\n",
       "    <tr>\n",
       "      <th>365</th>\n",
       "      <td>190950312</td>\n",
       "      <td>Get advice for ramping up your Data Science sk...</td>\n",
       "    </tr>\n",
       "    <tr>\n",
       "      <th>366</th>\n",
       "      <td>191016715</td>\n",
       "      <td>Get advice for ramping up your Data Science sk...</td>\n",
       "    </tr>\n",
       "    <tr>\n",
       "      <th>367</th>\n",
       "      <td>191020160</td>\n",
       "      <td>Get advice for ramping up your Data Science sk...</td>\n",
       "    </tr>\n",
       "    <tr>\n",
       "      <th>368</th>\n",
       "      <td>191020372</td>\n",
       "      <td>How does entering a bootcamp or Masters progra...</td>\n",
       "    </tr>\n",
       "    <tr>\n",
       "      <th>369</th>\n",
       "      <td>191097251</td>\n",
       "      <td>Get advice for ramping up your Data Science sk...</td>\n",
       "    </tr>\n",
       "    <tr>\n",
       "      <th>370</th>\n",
       "      <td>191115895</td>\n",
       "      <td>Get advice for ramping up your Data Science sk...</td>\n",
       "    </tr>\n",
       "    <tr>\n",
       "      <th>371</th>\n",
       "      <td>191119754</td>\n",
       "      <td>A panel discussion on best practices for growi...</td>\n",
       "    </tr>\n",
       "    <tr>\n",
       "      <th>372</th>\n",
       "      <td>191138424</td>\n",
       "      <td>Get advice for ramping up your Data Science sk...</td>\n",
       "    </tr>\n",
       "    <tr>\n",
       "      <th>373</th>\n",
       "      <td>191164118</td>\n",
       "      <td>Get advice for ramping up your Data Science sk...</td>\n",
       "    </tr>\n",
       "    <tr>\n",
       "      <th>374</th>\n",
       "      <td>191180646</td>\n",
       "      <td>A panel discussion on best practices for growi...</td>\n",
       "    </tr>\n",
       "    <tr>\n",
       "      <th>375</th>\n",
       "      <td>191199018</td>\n",
       "      <td>Get advice for ramping up your Data Science sk...</td>\n",
       "    </tr>\n",
       "    <tr>\n",
       "      <th>376</th>\n",
       "      <td>191230805</td>\n",
       "      <td>A panel discussion on best practices for growi...</td>\n",
       "    </tr>\n",
       "    <tr>\n",
       "      <th>377</th>\n",
       "      <td>191296378</td>\n",
       "      <td>A panel discussion on best practices for growi...</td>\n",
       "    </tr>\n",
       "    <tr>\n",
       "      <th>378</th>\n",
       "      <td>191371720</td>\n",
       "      <td>A panel discussion on best practices for growi...</td>\n",
       "    </tr>\n",
       "    <tr>\n",
       "      <th>379</th>\n",
       "      <td>191543138</td>\n",
       "      <td>A panel discussion on best practices for growi...</td>\n",
       "    </tr>\n",
       "    <tr>\n",
       "      <th>380</th>\n",
       "      <td>191738474</td>\n",
       "      <td>A panel discussion on best practices for growi...</td>\n",
       "    </tr>\n",
       "    <tr>\n",
       "      <th>381</th>\n",
       "      <td>192127676</td>\n",
       "      <td>How does entering a bootcamp or Masters progra...</td>\n",
       "    </tr>\n",
       "    <tr>\n",
       "      <th>382</th>\n",
       "      <td>192182636</td>\n",
       "      <td>How does entering a bootcamp or Masters progra...</td>\n",
       "    </tr>\n",
       "    <tr>\n",
       "      <th>383</th>\n",
       "      <td>192315146</td>\n",
       "      <td>How does entering a bootcamp or Masters progra...</td>\n",
       "    </tr>\n",
       "    <tr>\n",
       "      <th>384</th>\n",
       "      <td>192454662</td>\n",
       "      <td>How does entering a bootcamp or Masters progra...</td>\n",
       "    </tr>\n",
       "    <tr>\n",
       "      <th>385</th>\n",
       "      <td>192495024</td>\n",
       "      <td>How does entering a bootcamp or Masters progra...</td>\n",
       "    </tr>\n",
       "    <tr>\n",
       "      <th>386</th>\n",
       "      <td>192721871</td>\n",
       "      <td>How does entering a bootcamp or Masters progra...</td>\n",
       "    </tr>\n",
       "    <tr>\n",
       "      <th>387</th>\n",
       "      <td>192752466</td>\n",
       "      <td>How does entering a bootcamp or Masters progra...</td>\n",
       "    </tr>\n",
       "    <tr>\n",
       "      <th>388</th>\n",
       "      <td>192773702</td>\n",
       "      <td>How does entering a bootcamp or Masters progra...</td>\n",
       "    </tr>\n",
       "    <tr>\n",
       "      <th>389</th>\n",
       "      <td>192929104</td>\n",
       "      <td>How does entering a bootcamp or Masters progra...</td>\n",
       "    </tr>\n",
       "    <tr>\n",
       "      <th>390</th>\n",
       "      <td>193000723</td>\n",
       "      <td>How does entering a bootcamp or Masters progra...</td>\n",
       "    </tr>\n",
       "    <tr>\n",
       "      <th>391</th>\n",
       "      <td>193048983</td>\n",
       "      <td>How does entering a bootcamp or Masters progra...</td>\n",
       "    </tr>\n",
       "    <tr>\n",
       "      <th>392</th>\n",
       "      <td>193049939</td>\n",
       "      <td>How does entering a bootcamp or Masters progra...</td>\n",
       "    </tr>\n",
       "  </tbody>\n",
       "</table>\n",
       "<p>393 rows × 2 columns</p>\n",
       "</div>"
      ],
      "text/plain": [
       "     member_id                                  event_description\n",
       "0       292159  Get advice for ramping up your Data Science sk...\n",
       "1       327482  No it isn't Pair Programming.. It's \"Pair Data...\n",
       "2       493376  Get advice for ramping up your Data Science sk...\n",
       "3      2811577  A panel discussion on best practices for growi...\n",
       "4      2853561  Get advice for ramping up your Data Science sk...\n",
       "5      2877764  A panel discussion on best practices for growi...\n",
       "6      2964467  Get advice for ramping up your Data Science sk...\n",
       "7      2966361  You've heard of Pair Programming: Introducing ...\n",
       "8      3456622  Get advice for ramping up your Data Science sk...\n",
       "9      3756931  Get advice for ramping up your Data Science sk...\n",
       "10     3881071  You've heard of Pair Programming: Introducing ...\n",
       "11     3893698  A panel discussion on best practices for growi...\n",
       "12     4252347  No it isn't Pair Programming.. It's \"Pair Data...\n",
       "13     4450970  A panel discussion on best practices for growi...\n",
       "14     4529261  Get advice for ramping up your Data Science sk...\n",
       "15     4535468  A panel discussion on best practices for growi...\n",
       "16     4606034  A panel discussion on best practices for growi...\n",
       "17     5459364  A panel discussion on best practices for growi...\n",
       "18     5729595  You've heard of Pair Programming: Introducing ...\n",
       "19     5734460  Get advice for ramping up your Data Science sk...\n",
       "20     5884673  Get advice for ramping up your Data Science sk...\n",
       "21     6047975  Get advice for ramping up your Data Science sk...\n",
       "22     6276332  No it isn't Pair Programming.. It's \"Pair Data...\n",
       "23     6945361  A panel discussion on best practices for growi...\n",
       "24     7419036  How does entering a bootcamp or Masters progra...\n",
       "25     7470257  A panel discussion on best practices for growi...\n",
       "26     7558057  Get advice for ramping up your Data Science sk...\n",
       "27     8123114  Get advice for ramping up your Data Science sk...\n",
       "28     8155925  A panel discussion on best practices for growi...\n",
       "29     8486883  No it isn't Pair Programming.. It's \"Pair Data...\n",
       "..         ...                                                ...\n",
       "363  190752194  How does entering a bootcamp or Masters progra...\n",
       "364  190893574  Get advice for ramping up your Data Science sk...\n",
       "365  190950312  Get advice for ramping up your Data Science sk...\n",
       "366  191016715  Get advice for ramping up your Data Science sk...\n",
       "367  191020160  Get advice for ramping up your Data Science sk...\n",
       "368  191020372  How does entering a bootcamp or Masters progra...\n",
       "369  191097251  Get advice for ramping up your Data Science sk...\n",
       "370  191115895  Get advice for ramping up your Data Science sk...\n",
       "371  191119754  A panel discussion on best practices for growi...\n",
       "372  191138424  Get advice for ramping up your Data Science sk...\n",
       "373  191164118  Get advice for ramping up your Data Science sk...\n",
       "374  191180646  A panel discussion on best practices for growi...\n",
       "375  191199018  Get advice for ramping up your Data Science sk...\n",
       "376  191230805  A panel discussion on best practices for growi...\n",
       "377  191296378  A panel discussion on best practices for growi...\n",
       "378  191371720  A panel discussion on best practices for growi...\n",
       "379  191543138  A panel discussion on best practices for growi...\n",
       "380  191738474  A panel discussion on best practices for growi...\n",
       "381  192127676  How does entering a bootcamp or Masters progra...\n",
       "382  192182636  How does entering a bootcamp or Masters progra...\n",
       "383  192315146  How does entering a bootcamp or Masters progra...\n",
       "384  192454662  How does entering a bootcamp or Masters progra...\n",
       "385  192495024  How does entering a bootcamp or Masters progra...\n",
       "386  192721871  How does entering a bootcamp or Masters progra...\n",
       "387  192752466  How does entering a bootcamp or Masters progra...\n",
       "388  192773702  How does entering a bootcamp or Masters progra...\n",
       "389  192929104  How does entering a bootcamp or Masters progra...\n",
       "390  193000723  How does entering a bootcamp or Masters progra...\n",
       "391  193048983  How does entering a bootcamp or Masters progra...\n",
       "392  193049939  How does entering a bootcamp or Masters progra...\n",
       "\n",
       "[393 rows x 2 columns]"
      ]
     },
     "execution_count": 3,
     "metadata": {},
     "output_type": "execute_result"
    }
   ],
   "source": [
    "df"
   ]
  },
  {
   "cell_type": "code",
   "execution_count": 54,
   "metadata": {
    "collapsed": false
   },
   "outputs": [],
   "source": [
    "vectorizer = TfidfVectorizer(stop_words='english')\n",
    "vectors = vectorizer.fit_transform(df['event_description']).toarray()"
   ]
  },
  {
   "cell_type": "code",
   "execution_count": 55,
   "metadata": {
    "collapsed": false
   },
   "outputs": [
    {
     "data": {
      "text/plain": [
       "array([[ 0.05350768,  0.        ,  0.        , ...,  0.        ,\n",
       "         0.        ,  0.        ],\n",
       "       [ 0.        ,  0.        ,  0.02569246, ...,  0.        ,\n",
       "         0.        ,  0.        ],\n",
       "       [ 0.05350768,  0.        ,  0.        , ...,  0.        ,\n",
       "         0.        ,  0.        ],\n",
       "       ..., \n",
       "       [ 0.08175494,  0.        ,  0.        , ...,  0.        ,\n",
       "         0.        ,  0.12485161],\n",
       "       [ 0.08175494,  0.        ,  0.        , ...,  0.        ,\n",
       "         0.        ,  0.12485161],\n",
       "       [ 0.08175494,  0.        ,  0.        , ...,  0.        ,\n",
       "         0.        ,  0.12485161]])"
      ]
     },
     "execution_count": 55,
     "metadata": {},
     "output_type": "execute_result"
    }
   ],
   "source": [
    "vectors"
   ]
  },
  {
   "cell_type": "code",
   "execution_count": 6,
   "metadata": {
    "collapsed": false
   },
   "outputs": [
    {
     "ename": "NameError",
     "evalue": "name 'data' is not defined",
     "output_type": "error",
     "traceback": [
      "\u001b[0;31m---------------------------------------------------------------------------\u001b[0m",
      "\u001b[0;31mNameError\u001b[0m                                 Traceback (most recent call last)",
      "\u001b[0;32m<ipython-input-6-c29abe820bb8>\u001b[0m in \u001b[0;36m<module>\u001b[0;34m()\u001b[0m\n\u001b[1;32m     13\u001b[0m \u001b[0mn_topics\u001b[0m \u001b[0;34m=\u001b[0m \u001b[0;36m3\u001b[0m\u001b[0;34m\u001b[0m\u001b[0m\n\u001b[1;32m     14\u001b[0m \u001b[0;34m\u001b[0m\u001b[0m\n\u001b[0;32m---> 15\u001b[0;31m \u001b[0mdoc_bodies\u001b[0m \u001b[0;34m=\u001b[0m \u001b[0mdata\u001b[0m\u001b[0;34m[\u001b[0m\u001b[0;34m'event_description'\u001b[0m\u001b[0;34m]\u001b[0m\u001b[0;34m\u001b[0m\u001b[0m\n\u001b[0m\u001b[1;32m     16\u001b[0m \u001b[0;34m\u001b[0m\u001b[0m\n\u001b[1;32m     17\u001b[0m \u001b[0;31m#vectorizer = CountVectorizer(max_features=n_features)\u001b[0m\u001b[0;34m\u001b[0m\u001b[0;34m\u001b[0m\u001b[0m\n",
      "\u001b[0;31mNameError\u001b[0m: name 'data' is not defined"
     ]
    }
   ],
   "source": [
    "def reconst_mse(target, left, right):\n",
    "    return (array(target - left.dot(right))**2).mean()\n",
    "\n",
    "def describe_nmf_results(document_term_mat, W, H, n_top_words = 15):\n",
    "    print(\"Reconstruction error: %f\") %(reconst_mse(document_term_mat, W, H))\n",
    "    for topic_num, topic in enumerate(H):\n",
    "        print(\"Topic %d:\" % topic_num)\n",
    "        print(\" \".join([feature_words[i] \\\n",
    "                for i in topic.argsort()[:-n_top_words - 1:-1]]))\n",
    "    return \n",
    "\n",
    "\n",
    "n_features = 5000\n",
    "n_topics = 3\n",
    "\n",
    "doc_bodies = data['event_description']\n",
    "\n",
    "#vectorizer = CountVectorizer(max_features=n_features)\n",
    "vectorizer = TfidfVectorizer(max_features=n_features, stop_words='english')\n",
    "document_term_mat = vectorizer.fit_transform(doc_bodies)\n",
    "feature_words = vectorizer.get_feature_names()\n",
    "\n",
    "print(\"\\n\\n---------\\nsklearn decomposition\")\n",
    "nmf = NMF(n_components=n_topics)\n",
    "W_sklearn = nmf.fit_transform(document_term_mat)\n",
    "H_sklearn = nmf.components_\n",
    "describe_nmf_results(document_term_mat, W_sklearn, H_sklearn)\n",
    " "
   ]
  },
  {
   "cell_type": "code",
   "execution_count": 56,
   "metadata": {
    "collapsed": true
   },
   "outputs": [],
   "source": [
    "def fit_nmf(k, M):\n",
    "    nmf = NMF(n_components=k)\n",
    "    nmf.fit(M)\n",
    "    W = nmf.transform(M);\n",
    "    H = nmf.components_;\n",
    "    return W, H"
   ]
  },
  {
   "cell_type": "code",
   "execution_count": 57,
   "metadata": {
    "collapsed": false
   },
   "outputs": [],
   "source": [
    "W, H = fit_nmf(3, vectors)"
   ]
  },
  {
   "cell_type": "code",
   "execution_count": 58,
   "metadata": {
    "collapsed": true
   },
   "outputs": [],
   "source": [
    "upcoming = ['Just land a new DS \\\n",
    "                job? Contact me to speak on this panel! Tell current job seekers \\\n",
    "                about your experiences and takeaways. \\\n",
    "                Tell employers and recruiters how they should improve the process.']"
   ]
  },
  {
   "cell_type": "code",
   "execution_count": 59,
   "metadata": {
    "collapsed": true
   },
   "outputs": [],
   "source": [
    "vectors_upcoming = vectorizer.transform(upcoming).toarray()"
   ]
  },
  {
   "cell_type": "code",
   "execution_count": 60,
   "metadata": {
    "collapsed": false
   },
   "outputs": [
    {
     "data": {
      "text/plain": [
       "(3, 638)"
      ]
     },
     "execution_count": 60,
     "metadata": {},
     "output_type": "execute_result"
    }
   ],
   "source": [
    "H.shape"
   ]
  },
  {
   "cell_type": "code",
   "execution_count": 61,
   "metadata": {
    "collapsed": false
   },
   "outputs": [
    {
     "data": {
      "text/plain": [
       "(393, 638)"
      ]
     },
     "execution_count": 61,
     "metadata": {},
     "output_type": "execute_result"
    }
   ],
   "source": [
    "vectors.shape"
   ]
  },
  {
   "cell_type": "code",
   "execution_count": 62,
   "metadata": {
    "collapsed": false
   },
   "outputs": [
    {
     "data": {
      "text/plain": [
       "(1, 638)"
      ]
     },
     "execution_count": 62,
     "metadata": {},
     "output_type": "execute_result"
    }
   ],
   "source": [
    "vectors_upcoming.shape"
   ]
  },
  {
   "cell_type": "code",
   "execution_count": 63,
   "metadata": {
    "collapsed": false
   },
   "outputs": [
    {
     "data": {
      "text/html": [
       "<table class=\"simpletable\">\n",
       "<caption>OLS Regression Results</caption>\n",
       "<tr>\n",
       "  <th>Dep. Variable:</th>            <td>y</td>        <th>  R-squared:         </th> <td>   0.008</td>\n",
       "</tr>\n",
       "<tr>\n",
       "  <th>Model:</th>                   <td>OLS</td>       <th>  Adj. R-squared:    </th> <td>   0.004</td>\n",
       "</tr>\n",
       "<tr>\n",
       "  <th>Method:</th>             <td>Least Squares</td>  <th>  F-statistic:       </th> <td>   1.751</td>\n",
       "</tr>\n",
       "<tr>\n",
       "  <th>Date:</th>             <td>Sat, 14 May 2016</td> <th>  Prob (F-statistic):</th>  <td> 0.155</td> \n",
       "</tr>\n",
       "<tr>\n",
       "  <th>Time:</th>                 <td>23:44:29</td>     <th>  Log-Likelihood:    </th> <td>  1157.6</td>\n",
       "</tr>\n",
       "<tr>\n",
       "  <th>No. Observations:</th>      <td>   638</td>      <th>  AIC:               </th> <td>  -2309.</td>\n",
       "</tr>\n",
       "<tr>\n",
       "  <th>Df Residuals:</th>          <td>   635</td>      <th>  BIC:               </th> <td>  -2296.</td>\n",
       "</tr>\n",
       "<tr>\n",
       "  <th>Df Model:</th>              <td>     3</td>      <th>                     </th>     <td> </td>   \n",
       "</tr>\n",
       "<tr>\n",
       "  <th>Covariance Type:</th>      <td>nonrobust</td>    <th>                     </th>     <td> </td>   \n",
       "</tr>\n",
       "</table>\n",
       "<table class=\"simpletable\">\n",
       "<tr>\n",
       "   <td></td>     <th>coef</th>     <th>std err</th>      <th>t</th>      <th>P>|t|</th> <th>[95.0% Conf. Int.]</th> \n",
       "</tr>\n",
       "<tr>\n",
       "  <th>x1</th> <td>    0.0197</td> <td>    0.010</td> <td>    1.895</td> <td> 0.058</td> <td>   -0.001     0.040</td>\n",
       "</tr>\n",
       "<tr>\n",
       "  <th>x2</th> <td>    0.0028</td> <td>    0.014</td> <td>    0.210</td> <td> 0.834</td> <td>   -0.024     0.029</td>\n",
       "</tr>\n",
       "<tr>\n",
       "  <th>x3</th> <td>    0.0137</td> <td>    0.016</td> <td>    0.870</td> <td> 0.385</td> <td>   -0.017     0.045</td>\n",
       "</tr>\n",
       "</table>\n",
       "<table class=\"simpletable\">\n",
       "<tr>\n",
       "  <th>Omnibus:</th>       <td>1054.751</td> <th>  Durbin-Watson:     </th>  <td>   2.030</td> \n",
       "</tr>\n",
       "<tr>\n",
       "  <th>Prob(Omnibus):</th>  <td> 0.000</td>  <th>  Jarque-Bera (JB):  </th> <td>382634.431</td>\n",
       "</tr>\n",
       "<tr>\n",
       "  <th>Skew:</th>           <td>10.132</td>  <th>  Prob(JB):          </th>  <td>    0.00</td> \n",
       "</tr>\n",
       "<tr>\n",
       "  <th>Kurtosis:</th>       <td>121.250</td> <th>  Cond. No.          </th>  <td>    1.61</td> \n",
       "</tr>\n",
       "</table>"
      ],
      "text/plain": [
       "<class 'statsmodels.iolib.summary.Summary'>\n",
       "\"\"\"\n",
       "                            OLS Regression Results                            \n",
       "==============================================================================\n",
       "Dep. Variable:                      y   R-squared:                       0.008\n",
       "Model:                            OLS   Adj. R-squared:                  0.004\n",
       "Method:                 Least Squares   F-statistic:                     1.751\n",
       "Date:                Sat, 14 May 2016   Prob (F-statistic):              0.155\n",
       "Time:                        23:44:29   Log-Likelihood:                 1157.6\n",
       "No. Observations:                 638   AIC:                            -2309.\n",
       "Df Residuals:                     635   BIC:                            -2296.\n",
       "Df Model:                           3                                         \n",
       "Covariance Type:            nonrobust                                         \n",
       "==============================================================================\n",
       "                 coef    std err          t      P>|t|      [95.0% Conf. Int.]\n",
       "------------------------------------------------------------------------------\n",
       "x1             0.0197      0.010      1.895      0.058        -0.001     0.040\n",
       "x2             0.0028      0.014      0.210      0.834        -0.024     0.029\n",
       "x3             0.0137      0.016      0.870      0.385        -0.017     0.045\n",
       "==============================================================================\n",
       "Omnibus:                     1054.751   Durbin-Watson:                   2.030\n",
       "Prob(Omnibus):                  0.000   Jarque-Bera (JB):           382634.431\n",
       "Skew:                          10.132   Prob(JB):                         0.00\n",
       "Kurtosis:                     121.250   Cond. No.                         1.61\n",
       "==============================================================================\n",
       "\n",
       "Warnings:\n",
       "[1] Standard Errors assume that the covariance matrix of the errors is correctly specified.\n",
       "\"\"\""
      ]
     },
     "execution_count": 63,
     "metadata": {},
     "output_type": "execute_result"
    }
   ],
   "source": [
    "import statsmodels.api as sm\n",
    "from statsmodels.tools import add_constant\n",
    "\n",
    "\n",
    "regression_model = sm.OLS(vectors_upcoming.T, H.T).fit()\n",
    "regression_model.summary()\n"
   ]
  },
  {
   "cell_type": "code",
   "execution_count": null,
   "metadata": {
    "collapsed": true
   },
   "outputs": [],
   "source": [
    "# nmf, e - model2\n",
    "# webscraping: + mongo\n",
    "\n",
    "# nlp\n",
    "# get_upcomings\n"
   ]
  }
 ],
 "metadata": {
  "kernelspec": {
   "display_name": "Python 2",
   "language": "python",
   "name": "python2"
  },
  "language_info": {
   "codemirror_mode": {
    "name": "ipython",
    "version": 2
   },
   "file_extension": ".py",
   "mimetype": "text/x-python",
   "name": "python",
   "nbconvert_exporter": "python",
   "pygments_lexer": "ipython2",
   "version": "2.7.11"
  }
 },
 "nbformat": 4,
 "nbformat_minor": 0
}

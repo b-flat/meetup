{
 "cells": [
  {
   "cell_type": "code",
   "execution_count": 1,
   "metadata": {
    "collapsed": false
   },
   "outputs": [],
   "source": [
    "# from pymongo import MongoClient\n",
    "import pandas as pd\n",
    "import requests\n",
    "from pprint import pprint"
   ]
  },
  {
   "cell_type": "code",
   "execution_count": 4,
   "metadata": {
    "collapsed": true
   },
   "outputs": [],
   "source": [
    "# client = MongoClient()\n",
    "# db = client['meetup']"
   ]
  },
  {
   "cell_type": "code",
   "execution_count": 2,
   "metadata": {
    "collapsed": true
   },
   "outputs": [],
   "source": [
    "API_KEY = '6cc211017f64141072497d1766550'\n",
    "BASE_URL = 'https://api.meetup.com'"
   ]
  },
  {
   "cell_type": "code",
   "execution_count": 3,
   "metadata": {
    "collapsed": true
   },
   "outputs": [
    {
     "data": {
      "text/plain": [
       "[{u'created': 1455863910000,\n",
       "  u'description': u\"<p>Exercise your critical thinking with a data eng challenge problem! Hear how others would solve the problem, what trade-offs they consider, and voice your opinion / ask questions in a non-threatening atmosphere. Like a journal club, but minus reading boring papers, and plus an exciting problem :-)</p> <p>I'll send out the challenge problem by email to the RSVP'd group 2 days before the event.</p> <p>By the way, employers rank whiteboarding &amp; critical thinking skills as one of their top priorities in hiring data engineers. Practice makes perfect!</p> <p>See you soon,<br/>Aaron</p> \",\n",
       "  u'group': {u'created': 1441761756000,\n",
       "   u'id': 18913207,\n",
       "   u'join_mode': u'open',\n",
       "   u'lat': 37.779998779296875,\n",
       "   u'lon': -122.41999816894531,\n",
       "   u'name': u'Data Engineering Professional Development San Francisco',\n",
       "   u'urlname': u'DE-ProD-SF',\n",
       "   u'who': u'Professional Developers'},\n",
       "  u'id': u'228968660',\n",
       "  u'link': u'http://www.meetup.com/DE-ProD-SF/events/228968660/',\n",
       "  u'name': u'Data Eng. Whiteboarding Session 1',\n",
       "  u'status': u'past',\n",
       "  u'time': 1456455600000,\n",
       "  u'updated': 1456516735000,\n",
       "  u'utc_offset': -28800000,\n",
       "  u'venue': {u'address_1': u'4 4 Tehama Street ',\n",
       "   u'city': u'San Francisco',\n",
       "   u'country': u'us',\n",
       "   u'id': 23815839,\n",
       "   u'lat': 37.77711868286133,\n",
       "   u'localized_country_name': u'USA',\n",
       "   u'lon': -122.41963958740234,\n",
       "   u'name': u'Galvanize',\n",
       "   u'repinned': False,\n",
       "   u'state': u'CA',\n",
       "   u'zip': u''},\n",
       "  u'visibility': u'public',\n",
       "  u'waitlist_count': 0,\n",
       "  u'yes_rsvp_count': 10},\n",
       " {u'created': 1454720805000,\n",
       "  u'description': u'<p><b>*Note</b>,\\xa0expedite your check in at Galvanize;\\xa0<a href=\"https://www.eventbrite.com/e/sf-data-science-meetup-data-engineering-skills-and-hiring-tickets-21572104746\">register here</a>\\xa0</p> <p><br/>What skills are the most important to getting hired as a data engineer? How should you allocate your professional development time?</p> <p><br/>Advice from hiring managers can help!</p> <p>Act 1 - Aaron Merlob will present some original qualitative and quantitative research on the subject.</p> <p><br/>Act 2 - A short panel discussion with DE Hiring Managers + significant time for audience Q&amp;A. Panel questions will cover the various types of DE teams, generalists vs. specialists, and DE career paths. (Feel free to send questions now)</p> <p>Panelists will be:</p> <p><b>Laura Pruitt</b>, Content Delivery Analytics Manager @ Netflix (Streaming Movies)</p> <p><br/><b>Jeff Magnusson</b>, Director of Algorithms Platform @ Stitch Fix (Online Personal Stylists for Women)</p> <p><br/><b>Wes Bailey</b>, VP Engineering and Data Science @ Sproutling (The Smarter Baby Monitor)</p> ',\n",
       "  u'duration': 9000000,\n",
       "  u'group': {u'created': 1441761756000,\n",
       "   u'id': 18913207,\n",
       "   u'join_mode': u'open',\n",
       "   u'lat': 37.779998779296875,\n",
       "   u'lon': -122.41999816894531,\n",
       "   u'name': u'Data Engineering Professional Development San Francisco',\n",
       "   u'urlname': u'DE-ProD-SF',\n",
       "   u'who': u'Professional Developers'},\n",
       "  u'id': u'228648803',\n",
       "  u'link': u'http://www.meetup.com/DE-ProD-SF/events/228648803/',\n",
       "  u'name': u'Data Engineering Skills and Hiring',\n",
       "  u'status': u'past',\n",
       "  u'time': 1459301400000,\n",
       "  u'updated': 1459315746000,\n",
       "  u'utc_offset': -25200000,\n",
       "  u'venue': {u'address_1': u'4 4 Tehama Street ',\n",
       "   u'city': u'San Francisco',\n",
       "   u'country': u'us',\n",
       "   u'id': 23815839,\n",
       "   u'lat': 37.77711868286133,\n",
       "   u'localized_country_name': u'USA',\n",
       "   u'lon': -122.41963958740234,\n",
       "   u'name': u'Galvanize',\n",
       "   u'repinned': False,\n",
       "   u'state': u'CA',\n",
       "   u'zip': u''},\n",
       "  u'visibility': u'public',\n",
       "  u'waitlist_count': 0,\n",
       "  u'yes_rsvp_count': 25}]"
      ]
     },
     "execution_count": 3,
     "metadata": {},
     "output_type": "execute_result"
    }
   ],
   "source": [
    "# get a listing of all meetup events hosted by DE-ProD-SF\n",
    "\n",
    "def get_events(urlname):\n",
    "    \n",
    "    events_url = BASE_URL + '/' + urlname + '/events'\n",
    "    params = {'sign':'true','key': API_KEY, 'status': 'past'}\n",
    "    response = requests.get(events_url, params = params)\n",
    "    events = response.json()\n",
    "    \n",
    "    return events\n",
    "\n",
    "urlname = 'DE-ProD-SF'\n",
    "get_events(urlname)"
   ]
  },
  {
   "cell_type": "code",
   "execution_count": 12,
   "metadata": {
    "collapsed": false
   },
   "outputs": [
    {
     "data": {
      "text/html": [
       "<div>\n",
       "<table border=\"1\" class=\"dataframe\">\n",
       "  <thead>\n",
       "    <tr style=\"text-align: right;\">\n",
       "      <th></th>\n",
       "      <th>event_id</th>\n",
       "      <th>event_description</th>\n",
       "    </tr>\n",
       "  </thead>\n",
       "  <tbody>\n",
       "    <tr>\n",
       "      <th>0</th>\n",
       "      <td>228968660</td>\n",
       "      <td>&lt;p&gt;Exercise your critical thinking with a data...</td>\n",
       "    </tr>\n",
       "    <tr>\n",
       "      <th>1</th>\n",
       "      <td>228648803</td>\n",
       "      <td>&lt;p&gt;&lt;b&gt;*Note&lt;/b&gt;, expedite your check in at Gal...</td>\n",
       "    </tr>\n",
       "  </tbody>\n",
       "</table>\n",
       "</div>"
      ],
      "text/plain": [
       "    event_id                                  event_description\n",
       "0  228968660  <p>Exercise your critical thinking with a data...\n",
       "1  228648803  <p><b>*Note</b>, expedite your check in at Gal..."
      ]
     },
     "execution_count": 12,
     "metadata": {},
     "output_type": "execute_result"
    }
   ],
   "source": [
    "#query all event ids and descriptions\n",
    "\n",
    "def query_events():\n",
    "    \n",
    "    event_id = []\n",
    "    event_description= []\n",
    "    for event in get_events(urlname):\n",
    "        event_id.append(event['id'])\n",
    "        event_description.append(event['description'])\n",
    " \n",
    "    return event_id, event_description\n",
    "\n",
    "# events_ids = [''.join(event['id']) for event in events]\n",
    "# print events_ids\n",
    "\n",
    "# events_descriptions = [event['description'] for event in events]\n",
    "# print events_descriptions\n",
    "\n",
    "event_id = query_events()[0]\n",
    "event_description = query_events()[1]\n",
    "\n",
    "df_events= pd.DataFrame([event_id, event_description]).T\n",
    "df_events.columns = ['event_id', 'event_description']\n",
    "df_events"
   ]
  },
  {
   "cell_type": "code",
   "execution_count": 33,
   "metadata": {
    "collapsed": true
   },
   "outputs": [
    {
     "data": {
      "text/plain": [
       "([87429312,\n",
       "  148987252,\n",
       "  149624662,\n",
       "  10134330,\n",
       "  5251626,\n",
       "  185934627,\n",
       "  132426572,\n",
       "  67449572,\n",
       "  201267222,\n",
       "  57468772,\n",
       "  120284782,\n",
       "  51737362,\n",
       "  65386392,\n",
       "  101970742,\n",
       "  198906506,\n",
       "  200610549,\n",
       "  193633824,\n",
       "  198433955,\n",
       "  1209999,\n",
       "  193376612,\n",
       "  190877147,\n",
       "  2963626,\n",
       "  99543232,\n",
       "  41888302,\n",
       "  10048695,\n",
       "  117627052,\n",
       "  8155925],\n",
       " [u'228648803',\n",
       "  u'228648803',\n",
       "  u'228648803',\n",
       "  u'228648803',\n",
       "  u'228648803',\n",
       "  u'228648803',\n",
       "  u'228648803',\n",
       "  u'228648803',\n",
       "  u'228648803',\n",
       "  u'228648803',\n",
       "  u'228648803',\n",
       "  u'228648803',\n",
       "  u'228648803',\n",
       "  u'228648803',\n",
       "  u'228648803',\n",
       "  u'228648803',\n",
       "  u'228648803',\n",
       "  u'228648803',\n",
       "  u'228648803',\n",
       "  u'228648803',\n",
       "  u'228648803',\n",
       "  u'228648803',\n",
       "  u'228648803',\n",
       "  u'228648803',\n",
       "  u'228648803',\n",
       "  u'228648803',\n",
       "  u'228648803'])"
      ]
     },
     "execution_count": 33,
     "metadata": {},
     "output_type": "execute_result"
    }
   ],
   "source": [
    "#get all rsvps for each event\n",
    "\n",
    "def get_rsvps(urlname):\n",
    " \n",
    "    rsvps_all = []\n",
    "    for i in query_events()[0]:\n",
    "        rsvps_url = BASE_URL + '/' + urlname +'/events/' + i + '/rsvps'\n",
    "        params = {'sign':'true','key': API_KEY}\n",
    "        response = requests.get(rsvps_url, params = params)\n",
    "        rsvps = response.json()\n",
    "        \n",
    "        # insert mongo instead?\n",
    "        \n",
    "        member_id = []\n",
    "        event_id = []\n",
    "        for rsvp in rsvps:\n",
    "            member_id.append(rsvp['member']['id'])\n",
    "            event_id.append(rsvp['event']['id'])\n",
    "#         rsvps_all.append(rsvps)\n",
    "    \n",
    "    return member_id, event_id\n",
    "\n",
    "get_rsvps(urlname)"
   ]
  },
  {
   "cell_type": "code",
   "execution_count": 32,
   "metadata": {
    "collapsed": false
   },
   "outputs": [],
   "source": [
    "\n",
    "# df_rsvps= pd.DataFrame([member_id, event_id]).T\n",
    "# df_rsvps.columns = ['member_id, 'event_id']\n",
    "# df_rsvps"
   ]
  },
  {
   "cell_type": "code",
   "execution_count": null,
   "metadata": {
    "collapsed": true
   },
   "outputs": [],
   "source": [
    "member_id = []\n",
    "for rsvp in rsvps:\n",
    "    member_id.append(rsvp['member']['id'])\n",
    "\n",
    "print member_id\n",
    "# event_description.append()\n",
    "    \n",
    "#     member_id = [rsvp['member']['id'] for rsvp in rsvps]\n",
    "    \n",
    "# pprint (rsvps)\n",
    "print len(member_id)"
   ]
  },
  {
   "cell_type": "code",
   "execution_count": 43,
   "metadata": {
    "collapsed": false
   },
   "outputs": [
    {
     "name": "stdout",
     "output_type": "stream",
     "text": [
      "0\n"
     ]
    }
   ],
   "source": [
    "members_rsvps = [rsvp['member']['id'] for rsvp in rsvps]\n",
    "print len(members_rsvps)"
   ]
  },
  {
   "cell_type": "code",
   "execution_count": 42,
   "metadata": {
    "collapsed": false
   },
   "outputs": [],
   "source": [
    "# members_rsvps = [(rsvp['member']['id'],rsvp['member']['name']) for rsvp in rsvps]\n",
    "# print len(members_rsvps)\n",
    "# print members_rsvps"
   ]
  },
  {
   "cell_type": "code",
   "execution_count": 34,
   "metadata": {
    "collapsed": false
   },
   "outputs": [],
   "source": [
    "# df = pd.DataFrame([member_id, event_id, event_description])\n",
    "# df.columns = ['member_id', 'event_id', 'event_description']"
   ]
  },
  {
   "cell_type": "code",
   "execution_count": null,
   "metadata": {
    "collapsed": true
   },
   "outputs": [],
   "source": []
  }
 ],
 "metadata": {
  "kernelspec": {
   "display_name": "Python 2",
   "language": "python",
   "name": "python2"
  },
  "language_info": {
   "codemirror_mode": {
    "name": "ipython",
    "version": 2
   },
   "file_extension": ".py",
   "mimetype": "text/x-python",
   "name": "python",
   "nbconvert_exporter": "python",
   "pygments_lexer": "ipython2",
   "version": "2.7.10"
  }
 },
 "nbformat": 4,
 "nbformat_minor": 0
}

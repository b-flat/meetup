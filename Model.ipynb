{
 "cells": [
  {
   "cell_type": "code",
   "execution_count": 1,
   "metadata": {
    "collapsed": true
   },
   "outputs": [],
   "source": [
    "import pandas as pd\n",
    "from nltk.tokenize import word_tokenize\n",
    "from nltk.stem.snowball import SnowballStemmer\n",
    "from sklearn.feature_extraction.text import TfidfVectorizer\n",
    "from sklearn.linear_model import LogisticRegression\n",
    "from sklearn.metrics.pairwise import linear_kernel"
   ]
  },
  {
   "cell_type": "code",
   "execution_count": 7,
   "metadata": {
    "collapsed": false
   },
   "outputs": [],
   "source": [
    "df = pd.read_json('data.json')"
   ]
  },
  {
   "cell_type": "code",
   "execution_count": 8,
   "metadata": {
    "collapsed": false
   },
   "outputs": [
    {
     "name": "stdout",
     "output_type": "stream",
     "text": [
      "<class 'pandas.core.frame.DataFrame'>\n",
      "Float64Index: 167 entries, 0.0 to 99.0\n",
      "Data columns (total 4 columns):\n",
      "event_description    167 non-null object\n",
      "event_id             167 non-null int64\n",
      "member_id            167 non-null int64\n",
      "rsvp                 167 non-null int64\n",
      "dtypes: int64(3), object(1)\n",
      "memory usage: 6.5+ KB\n"
     ]
    }
   ],
   "source": [
    "df.info() \n",
    "# need to change data type, index, column order\n",
    "# "
   ]
  },
  {
   "cell_type": "code",
   "execution_count": 11,
   "metadata": {
    "collapsed": true
   },
   "outputs": [
    {
     "data": {
      "text/plain": [
       "0      Exercise your critical thinking with a data en...\n",
       "1      *Note, expedite your check in at Galvanize; re...\n",
       "10     *Note, expedite your check in at Galvanize; re...\n",
       "100    *Note, expedite your check in at Galvanize; re...\n",
       "101    Exercise your critical thinking with a data en...\n",
       "102    *Note, expedite your check in at Galvanize; re...\n",
       "103    Exercise your critical thinking with a data en...\n",
       "104    *Note, expedite your check in at Galvanize; re...\n",
       "105    *Note, expedite your check in at Galvanize; re...\n",
       "106    *Note, expedite your check in at Galvanize; re...\n",
       "107    *Note, expedite your check in at Galvanize; re...\n",
       "108    Exercise your critical thinking with a data en...\n",
       "109    *Note, expedite your check in at Galvanize; re...\n",
       "11     Exercise your critical thinking with a data en...\n",
       "110    Exercise your critical thinking with a data en...\n",
       "111    *Note, expedite your check in at Galvanize; re...\n",
       "112    Exercise your critical thinking with a data en...\n",
       "113    *Note, expedite your check in at Galvanize; re...\n",
       "114    *Note, expedite your check in at Galvanize; re...\n",
       "115    Exercise your critical thinking with a data en...\n",
       "116    *Note, expedite your check in at Galvanize; re...\n",
       "117    Exercise your critical thinking with a data en...\n",
       "118    *Note, expedite your check in at Galvanize; re...\n",
       "119    Exercise your critical thinking with a data en...\n",
       "12     *Note, expedite your check in at Galvanize; re...\n",
       "120    *Note, expedite your check in at Galvanize; re...\n",
       "121    Exercise your critical thinking with a data en...\n",
       "122    *Note, expedite your check in at Galvanize; re...\n",
       "123    *Note, expedite your check in at Galvanize; re...\n",
       "124    Exercise your critical thinking with a data en...\n",
       "                             ...                        \n",
       "72     *Note, expedite your check in at Galvanize; re...\n",
       "73     Exercise your critical thinking with a data en...\n",
       "74     *Note, expedite your check in at Galvanize; re...\n",
       "75     *Note, expedite your check in at Galvanize; re...\n",
       "76     Exercise your critical thinking with a data en...\n",
       "77     *Note, expedite your check in at Galvanize; re...\n",
       "78     Exercise your critical thinking with a data en...\n",
       "79     *Note, expedite your check in at Galvanize; re...\n",
       "8      *Note, expedite your check in at Galvanize; re...\n",
       "80     Exercise your critical thinking with a data en...\n",
       "81     *Note, expedite your check in at Galvanize; re...\n",
       "82     Exercise your critical thinking with a data en...\n",
       "83     *Note, expedite your check in at Galvanize; re...\n",
       "84     *Note, expedite your check in at Galvanize; re...\n",
       "85     Exercise your critical thinking with a data en...\n",
       "86     *Note, expedite your check in at Galvanize; re...\n",
       "87     *Note, expedite your check in at Galvanize; re...\n",
       "88     *Note, expedite your check in at Galvanize; re...\n",
       "89     *Note, expedite your check in at Galvanize; re...\n",
       "9      Exercise your critical thinking with a data en...\n",
       "90     Exercise your critical thinking with a data en...\n",
       "91     *Note, expedite your check in at Galvanize; re...\n",
       "92     Exercise your critical thinking with a data en...\n",
       "93     *Note, expedite your check in at Galvanize; re...\n",
       "94     Exercise your critical thinking with a data en...\n",
       "95     *Note, expedite your check in at Galvanize; re...\n",
       "96     Exercise your critical thinking with a data en...\n",
       "97     *Note, expedite your check in at Galvanize; re...\n",
       "98     *Note, expedite your check in at Galvanize; re...\n",
       "99     Exercise your critical thinking with a data en...\n",
       "Name: event_description, dtype: object"
      ]
     },
     "execution_count": 11,
     "metadata": {},
     "output_type": "execute_result"
    }
   ],
   "source": [
    "df['event_description']"
   ]
  },
  {
   "cell_type": "code",
   "execution_count": null,
   "metadata": {
    "collapsed": true
   },
   "outputs": [],
   "source": [
    "snowball = SnowballStemmer('english')\n",
    "\n",
    "def tokenize(description):\n",
    "    '''\n",
    "    INPUT: string\n",
    "    OUTPUT: list of strings\n",
    "\n",
    "    Tokenize and stem/lemmatize the document.\n",
    "    '''\n",
    "    return [snowball.stem(word) for word in word_tokenize(description.lower())]\n",
    "\n",
    "tfidfvect = TfidfVectorizer(stop_words='english', tokenizer=tokenize)\n",
    "tfidf_vectorized = tfidfvect.fit_transform(descriptions)\n",
    "cosine_similarities = linear_kernel(tfidf_vectorized, tfidf_vectorized)\n",
    "\n",
    "# for i, event1 in enumerate(events):\n",
    "#     for j, event2 in enumerate(events):\n",
    "#         print i, j, cosine_similarities[i, j]"
   ]
  },
  {
   "cell_type": "code",
   "execution_count": null,
   "metadata": {
    "collapsed": true
   },
   "outputs": [],
   "source": [
    "for member in "
   ]
  }
 ],
 "metadata": {
  "kernelspec": {
   "display_name": "Python 2",
   "language": "python",
   "name": "python2"
  },
  "language_info": {
   "codemirror_mode": {
    "name": "ipython",
    "version": 2
   },
   "file_extension": ".py",
   "mimetype": "text/x-python",
   "name": "python",
   "nbconvert_exporter": "python",
   "pygments_lexer": "ipython2",
   "version": "2.7.10"
  }
 },
 "nbformat": 4,
 "nbformat_minor": 0
}
